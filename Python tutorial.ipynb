{
 "cells": [
  {
   "cell_type": "markdown",
   "id": "b035eb17",
   "metadata": {},
   "source": [
    "## Task 1"
   ]
  },
  {
   "cell_type": "code",
   "execution_count": 2,
   "id": "3d4a3293",
   "metadata": {},
   "outputs": [],
   "source": [
    "Grade_1=25\n",
    "Grade_2=30\n",
    "Grade_3=28"
   ]
  },
  {
   "cell_type": "code",
   "execution_count": 3,
   "id": "5baf30e1",
   "metadata": {},
   "outputs": [],
   "source": [
    "total_number_of_students= Grade_1 + Grade_2 + Grade_3"
   ]
  },
  {
   "cell_type": "code",
   "execution_count": 6,
   "id": "b4377455",
   "metadata": {},
   "outputs": [
    {
     "name": "stdout",
     "output_type": "stream",
     "text": [
      "The total number of students is 83.\n"
     ]
    }
   ],
   "source": [
    "print(f'The total number of students is {total_number_of_students}.')"
   ]
  },
  {
   "cell_type": "code",
   "execution_count": 28,
   "id": "c3b36562",
   "metadata": {},
   "outputs": [],
   "source": [
    "Avg_no_of_students_per_grade= (25+30+28)/3"
   ]
  },
  {
   "cell_type": "code",
   "execution_count": 30,
   "id": "620f1720",
   "metadata": {},
   "outputs": [
    {
     "name": "stdout",
     "output_type": "stream",
     "text": [
      "The average number of students per grade is 27.666666666666668.\n"
     ]
    }
   ],
   "source": [
    "print(f'The average number of students per grade is {Avg_no_of_students_per_grade}.')"
   ]
  },
  {
   "cell_type": "markdown",
   "id": "6210ce6c",
   "metadata": {},
   "source": [
    "## Task 2"
   ]
  },
  {
   "cell_type": "code",
   "execution_count": 7,
   "id": "24171547",
   "metadata": {},
   "outputs": [],
   "source": [
    "Grade_1_mes= \"Welcome to Grade 1! We are excited to have you.\"\n",
    "Grade_2_mes= \"Hello Grade 2 students! Get ready to learn and have fun.\"\n",
    "Grade_3_mes= \"Welcome Grade 3 students. Let's make this a great year of learning.\""
   ]
  },
  {
   "cell_type": "code",
   "execution_count": 9,
   "id": "3b886677",
   "metadata": {},
   "outputs": [
    {
     "name": "stdout",
     "output_type": "stream",
     "text": [
      "Hello Grade 2 students! Get ready to learn and have fun.\n"
     ]
    }
   ],
   "source": [
    "print(Grade_2_mes)"
   ]
  },
  {
   "cell_type": "markdown",
   "id": "ba4405dd",
   "metadata": {},
   "source": [
    "## Task 3"
   ]
  },
  {
   "cell_type": "code",
   "execution_count": 18,
   "id": "49ca160a",
   "metadata": {},
   "outputs": [],
   "source": [
    "list_of_grades= ['grade 1', 'grade 2', 'grade 3']"
   ]
  },
  {
   "cell_type": "code",
   "execution_count": 19,
   "id": "e7176dc3",
   "metadata": {},
   "outputs": [],
   "source": [
    "list_of_subjects_for_grade1= ['math', 'english', 'science']\n",
    "list_of_subjects_for_grade2= ['english', 'science', 'history']\n",
    "list_of_subjects_for_grade3= ['science', 'history', 'maths']"
   ]
  },
  {
   "cell_type": "code",
   "execution_count": 13,
   "id": "1f5700b7",
   "metadata": {},
   "outputs": [],
   "source": [
    "grade_1={'list_of_teachers: Mr. Smith, Ms. Johnson, Mr. David'}\n",
    "grade_2={'list_of_teachers: Ms. Williams, Mr. Davis, Ms. Brown'}\n",
    "grade_3={'list_of_teachers: Ms. Davis, Mr. Johnson, Mr. Smith'}"
   ]
  },
  {
   "cell_type": "code",
   "execution_count": 16,
   "id": "32627671",
   "metadata": {},
   "outputs": [
    {
     "name": "stdout",
     "output_type": "stream",
     "text": [
      "science\n",
      "history\n",
      "maths\n"
     ]
    }
   ],
   "source": [
    "for item in list_of_subjects_for_grade3:\n",
    "    print(item)"
   ]
  },
  {
   "cell_type": "code",
   "execution_count": 17,
   "id": "10c0b37e",
   "metadata": {},
   "outputs": [
    {
     "data": {
      "text/plain": [
       "{'list_of_teachers: Ms. Williams, Mr. Davis, Ms. Brown'}"
      ]
     },
     "execution_count": 17,
     "metadata": {},
     "output_type": "execute_result"
    }
   ],
   "source": [
    "grade_2"
   ]
  },
  {
   "cell_type": "code",
   "execution_count": null,
   "id": "c75dd06a",
   "metadata": {},
   "outputs": [],
   "source": []
  }
 ],
 "metadata": {
  "kernelspec": {
   "display_name": "Python 3 (ipykernel)",
   "language": "python",
   "name": "python3"
  },
  "language_info": {
   "codemirror_mode": {
    "name": "ipython",
    "version": 3
   },
   "file_extension": ".py",
   "mimetype": "text/x-python",
   "name": "python",
   "nbconvert_exporter": "python",
   "pygments_lexer": "ipython3",
   "version": "3.11.5"
  }
 },
 "nbformat": 4,
 "nbformat_minor": 5
}
